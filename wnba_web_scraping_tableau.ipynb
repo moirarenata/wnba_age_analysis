{
 "cells": [
  {
   "cell_type": "markdown",
   "id": "e4c2c946",
   "metadata": {},
   "source": [
    "### Packages "
   ]
  },
  {
   "cell_type": "code",
   "execution_count": null,
   "id": "56a4e2d5",
   "metadata": {},
   "outputs": [],
   "source": [
    "import pandas as pd \n",
    "from sklearn.preprocessing import MinMaxScaler\n",
    "from nba_api.stats.static import players\n",
    "from nba_api.stats.endpoints import commonallplayers, playergamelog, playercareerstats, leaguegamelog"
   ]
  },
  {
   "cell_type": "markdown",
   "id": "b0bdec25",
   "metadata": {},
   "source": [
    "### Reading WNBA data with nba_api"
   ]
  },
  {
   "cell_type": "code",
   "execution_count": null,
   "id": "2c59ae1d",
   "metadata": {},
   "outputs": [],
   "source": [
    "# Set league_id to \"10\" for WNBA and specify the season\n",
    "season = '2023'\n",
    "league_id = '10'  # WNBA\n",
    "\n",
    "# Retrieve game log data\n",
    "wnba_game_log = leaguegamelog.LeagueGameLog(season=season, league_id=league_id)\n",
    "wnba_data = wnba_game_log.get_data_frames()[0]\n",
    "\n",
    "# Display the first few rows\n",
    "print(wnba_data.head())\n",
    "\n",
    "# Optional: Save to CSV for further analysis\n",
    "wnba_data.to_csv(\"wnba_player_box_scores_per_game_2023.csv\", index=False)\n"
   ]
  },
  {
   "cell_type": "code",
   "execution_count": null,
   "id": "38452333",
   "metadata": {},
   "outputs": [],
   "source": [
    "wnba_players = players.get_wnba_active_players() #return list of active wnba players\n",
    "player_ids = [player['id'] for player in wnba_players]"
   ]
  },
  {
   "cell_type": "code",
   "execution_count": null,
   "id": "395c8289",
   "metadata": {},
   "outputs": [],
   "source": [
    "# Initialize a list to collect each player's game data\n",
    "all_players_data = []\n",
    "\n",
    "# Loop through each player to get their game logs for season 2023 \n",
    "season = '2023'\n",
    "for player_id in player_ids:\n",
    "    gamelog = playergamelog.PlayerGameLog(player_id=player_id, season=season, league_id_nullable=\"10\")\n",
    "    player_games = gamelog.get_data_frames()[0]\n",
    "    all_players_data.append(player_games)\n",
    "\n",
    "# Combine all players' data into a single DataFrame\n",
    "full_data = pd.concat(all_players_data, ignore_index=True)\n",
    "print(full_data.head())\n",
    "\n",
    "# Save to CSV for further analysis if desired\n",
    "full_data.to_csv(\"wnba_all_players_game_logs_2023.csv\", index=False)"
   ]
  },
  {
   "cell_type": "markdown",
   "id": "ebc773df",
   "metadata": {},
   "source": [
    "### Retrieve Data for Pregnant Athletes"
   ]
  },
  {
   "cell_type": "code",
   "execution_count": null,
   "id": "d90b52e0",
   "metadata": {},
   "outputs": [],
   "source": [
    "# List of WNBA player names to fetch stats for\n",
    "player_names = [\n",
    "    'Skylar Diggins-Smith',\n",
    "    'Dearica Hamby',\n",
    "    # 'Katie Lou Samuelson',\n",
    "    # 'Napheesa Collier',\n",
    "    # 'Candace Parker',\n",
    "    'DeWanna Bonner'\n",
    "]\n",
    "\n",
    "# Get the WNBA players list to find player IDs\n",
    "wnba_players = players.get_wnba_players()\n",
    "\n",
    "# Function to get player ID\n",
    "def get_player_id(player_name):\n",
    "    for player in wnba_players:\n",
    "        if player['full_name'] == player_name:\n",
    "            return player['id']\n",
    "    return None\n",
    "\n",
    "# Initialize a list to collect data\n",
    "player_season_stats_list = []\n",
    "\n",
    "# Fetch per-season stats for each player and store in list\n",
    "for name in player_names:\n",
    "    player_id = get_player_id(name)\n",
    "    if player_id:\n",
    "        # Retrieve career stats broken down by season\n",
    "        career_stats = playercareerstats.PlayerCareerStats(player_id=player_id, league_id_nullable='10')\n",
    "        season_df = career_stats.get_data_frames()[0]  # Data per season\n",
    "        \n",
    "        # Add the player's name to each row\n",
    "        season_df.insert(0, 'Player', name)\n",
    "        \n",
    "        # Append to the list\n",
    "        player_season_stats_list.append(season_df)\n",
    "    else:\n",
    "        print(f\"Player {name} not found in WNBA players list.\")\n",
    "\n",
    "# Concatenate all player stats into a single DataFrame\n",
    "player_season_stats_df = pd.concat(player_season_stats_list, ignore_index=True)\n",
    "player_season_stats_df.head()"
   ]
  },
  {
   "cell_type": "code",
   "execution_count": null,
   "id": "2cb5c80c",
   "metadata": {},
   "outputs": [],
   "source": [
    "pd.set_option('display.max_columns', None)  \n",
    "player_season_stats_df.head()\n",
    "\n",
    "player_season_stats_df.to_csv(\"wnba_pregancy_analysis.csv\", index=False)"
   ]
  },
  {
   "cell_type": "markdown",
   "id": "0a5f53f2",
   "metadata": {},
   "source": [
    "### Take Active WNBA Record and their Past Few Seasons"
   ]
  },
  {
   "cell_type": "code",
   "execution_count": null,
   "id": "2bf41906",
   "metadata": {},
   "outputs": [],
   "source": [
    "# Get only active WNBA players\n",
    "active_wnba_players = [player for player in wnba_players if player['is_active']]\n",
    "\n",
    "# Initialize a list to collect data\n",
    "active_player_stats_list = []\n",
    "\n",
    "# Fetch per-season stats for each active player and store in list\n",
    "for player in active_wnba_players:\n",
    "    player_id = player['id']\n",
    "    player_name = player['full_name']\n",
    "    \n",
    "    try:\n",
    "        # Retrieve career stats broken down by season\n",
    "        career_stats = playercareerstats.PlayerCareerStats(player_id=player_id, league_id_nullable='10')\n",
    "        season_df = career_stats.get_data_frames()[0]  # Data per season\n",
    "        \n",
    "        # Add the player's name to each row\n",
    "        season_df.insert(0, 'Player', player_name)\n",
    "        \n",
    "        # Append to the list\n",
    "        active_player_stats_list.append(season_df)\n",
    "    except Exception as e:\n",
    "        print(f\"Error retrieving data for {player_name}: {e}\")\n",
    "\n",
    "# Combine all player stats into a single DataFrame\n",
    "if active_player_stats_list:\n",
    "    active_wnba_season_stats_df = pd.concat(active_player_stats_list, ignore_index=True)\n",
    "else:\n",
    "    active_wnba_season_stats_df = pd.DataFrame()  # Empty dataframe if no data\n",
    "\n",
    "active_wnba_season_stats_df.head()"
   ]
  },
  {
   "cell_type": "code",
   "execution_count": null,
   "id": "98a33043",
   "metadata": {},
   "outputs": [],
   "source": [
    "active_wnba_season_stats_df = pd.read_csv(\"active_wnba_players_2024.csv\")\n",
    "active_wnba_season_stats_df.columns"
   ]
  },
  {
   "cell_type": "code",
   "execution_count": null,
   "id": "32a5b2b7",
   "metadata": {},
   "outputs": [],
   "source": [
    "# clean up year \n",
    "active_wnba_season_stats_df[\"Year\"] = active_wnba_season_stats_df[\"SEASON_ID\"].str[:4].astype(int)\n",
    "active_wnba_season_stats_df.to_excel(\"active_wnba_players_2024.xlsx\", index=False)\n",
    "active_wnba_season_stats_df.head()"
   ]
  },
  {
   "cell_type": "markdown",
   "id": "8bccc6e9",
   "metadata": {},
   "source": [
    "### Prepare Data for Radar Chart"
   ]
  },
  {
   "cell_type": "code",
   "execution_count": null,
   "id": "aa619f26",
   "metadata": {},
   "outputs": [],
   "source": [
    "#prepare data for radar chart \n",
    "\n",
    "# Select relevant columns for performance metrics\n",
    "metrics_columns = ['PLAYER_AGE', 'GP', 'MIN', 'GS', 'FG_PCT', 'FG3_PCT', 'FT_PCT', 'OREB', 'DREB', 'AST', 'STL', 'BLK', 'TOV', 'PTS', 'PF']\n",
    "\n",
    "df = active_wnba_season_stats_df.copy()\n",
    "\n",
    "# Reshape data to long format for Tableau\n",
    "df_original = df.melt(id_vars=[\"Player\", \"SEASON_ID\"], \n",
    "                           value_vars=metrics_columns, \n",
    "                           var_name=\"Metric\", \n",
    "                           value_name=\"Original Value\")\n",
    "\n",
    "# Apply percentile ranking (MinMax scaling) to normalize data for radar chart\n",
    "scaler = MinMaxScaler()\n",
    "df[metrics_columns] = scaler.fit_transform(df[metrics_columns]) * 100\n",
    "\n",
    "# Reshape normalized data to long format for Tableau\n",
    "df_percentile = df.melt(id_vars=[\"Player\", \"SEASON_ID\"], \n",
    "                        value_vars=metrics_columns, \n",
    "                        var_name=\"Metric\", \n",
    "                        value_name=\"Percentile Value\")\n",
    "\n",
    "# Merge original values with percentiles\n",
    "df_final = pd.merge(df_original, df_percentile, on=[\"Player\", \"SEASON_ID\", \"Metric\"])\n",
    "    \n",
    "    \n",
    "\n",
    "# Save as CSV for Tableau\n",
    "file_path = \"wnba_2024_radar_chart_data_percentile.xlsx\"\n",
    "df_final.to_excel(file_path, index=False)"
   ]
  }
 ],
 "metadata": {
  "kernelspec": {
   "display_name": "wnba_env",
   "language": "python",
   "name": "python3"
  },
  "language_info": {
   "codemirror_mode": {
    "name": "ipython",
    "version": 3
   },
   "file_extension": ".py",
   "mimetype": "text/x-python",
   "name": "python",
   "nbconvert_exporter": "python",
   "pygments_lexer": "ipython3",
   "version": "3.12.6"
  }
 },
 "nbformat": 4,
 "nbformat_minor": 5
}
